{
 "cells": [
  {
   "cell_type": "markdown",
   "metadata": {},
   "source": [
    "# Modes of a Vibrating Building Under Sinusoidal Forcing\n",
    "\n",
    "The equations of motion for the four story building take this form:\n",
    "\n",
    "$$\n",
    "\\mathbf{M} \\dot{\\bar{s}} + \\mathbf{K} \\bar{c} = \\bar{F}\n",
    "$$\n",
    "\n",
    "where\n",
    "\n",
    "$$\n",
    "\\bar{c} = \\begin{bmatrix} x_1 \\\\ x_2 \\\\ x_3 \\\\ x_4 \\end{bmatrix},\n",
    "\\bar{s} = \\begin{bmatrix} v_1 \\\\ v_2 \\\\ v_3 \\\\ v_4 \\end{bmatrix}\n",
    "$$\n",
    "\n",
    "$$\n",
    "\\mathbf{M} =\n",
    "\\begin{bmatrix}\n",
    "m_1 & 0 & 0 & 0 \\\\\n",
    "0 & m_2 & 0 & 0 \\\\\n",
    "0 & 0 & m_3 & 0 \\\\\n",
    "0 & 0 & 0 & m_4\n",
    "\\end{bmatrix}\n",
    "$$\n",
    "\n",
    "$$\n",
    "\\mathbf{K} =\n",
    "\\begin{bmatrix}\n",
    "k_1+k_2 & -k_2 & 0 & 0 \\\\\n",
    "-k_2 & k_2 + k_3 & -k_3 \\\\\n",
    "0 & -k_3 & k_3+k_4 & -k_4 \\\\\n",
    "0 & 0 & -k_4 & k_4\n",
    "\\end{bmatrix}\n",
    "$$\n",
    "\n",
    "$$\n",
    "\\bar{F} = \\begin{bmatrix} F_1(t) \\\\ F_2(t) \\\\ F_3(t) \\\\ F_4(t) \\end{bmatrix}\n",
    "$$\n",
    "\n",
    "The forces $F_1, F_2, F_3, F_4$ are the lateral, arbitrary, forces applied to each floor."
   ]
  },
  {
   "cell_type": "code",
   "execution_count": null,
   "metadata": {},
   "outputs": [],
   "source": [
    "import numpy as np\n",
    "import matplotlib.pyplot as plt\n",
    "from resonance.linear_systems import FourStoryBuildingSystem"
   ]
  },
  {
   "cell_type": "markdown",
   "metadata": {},
   "source": [
    "This gives a bit nicer printing of large NumPy arrays."
   ]
  },
  {
   "cell_type": "code",
   "execution_count": null,
   "metadata": {},
   "outputs": [],
   "source": [
    "np.set_printoptions(precision=5, linewidth=100, suppress=True)"
   ]
  },
  {
   "cell_type": "code",
   "execution_count": null,
   "metadata": {},
   "outputs": [],
   "source": [
    "%matplotlib widget"
   ]
  },
  {
   "cell_type": "markdown",
   "metadata": {},
   "source": [
    "# Determine the model frequiences by calculating the eigenvalues"
   ]
  },
  {
   "cell_type": "code",
   "execution_count": null,
   "metadata": {},
   "outputs": [],
   "source": [
    "sys = FourStoryBuildingSystem()"
   ]
  },
  {
   "cell_type": "code",
   "execution_count": null,
   "metadata": {},
   "outputs": [],
   "source": [
    "M, C, K = sys.canonical_coefficients()"
   ]
  },
  {
   "cell_type": "code",
   "execution_count": null,
   "metadata": {},
   "outputs": [],
   "source": [
    "L = np.linalg.cholesky(M)"
   ]
  },
  {
   "cell_type": "code",
   "execution_count": null,
   "metadata": {},
   "outputs": [],
   "source": [
    "K_tilde = np.linalg.inv(L) @ K @ np.linalg.inv(L.T)"
   ]
  },
  {
   "cell_type": "code",
   "execution_count": null,
   "metadata": {},
   "outputs": [],
   "source": [
    "evals, evecs = np.linalg.eig(K_tilde)"
   ]
  },
  {
   "cell_type": "markdown",
   "metadata": {},
   "source": [
    "These are the modal frequencies in radians per second:"
   ]
  },
  {
   "cell_type": "code",
   "execution_count": null,
   "metadata": {},
   "outputs": [],
   "source": [
    "ws = np.sqrt(evals)\n",
    "ws"
   ]
  },
  {
   "cell_type": "markdown",
   "metadata": {},
   "source": [
    "# Forcing the fourth floor at the largest natural frequency"
   ]
  },
  {
   "cell_type": "markdown",
   "metadata": {},
   "source": [
    "Note that the initial state values are not all zero. Set them all to zero so we see only the effects of forcing."
   ]
  },
  {
   "cell_type": "code",
   "execution_count": null,
   "metadata": {},
   "outputs": [],
   "source": [
    "sys.states"
   ]
  },
  {
   "cell_type": "code",
   "execution_count": null,
   "metadata": {},
   "outputs": [],
   "source": [
    "sys.coordinates['x1'] = 0.0\n",
    "sys.coordinates['x2'] = 0.0\n",
    "sys.coordinates['x3'] = 0.0\n",
    "sys.coordinates['x4'] = 0.0"
   ]
  },
  {
   "cell_type": "code",
   "execution_count": null,
   "metadata": {},
   "outputs": [],
   "source": [
    "sys.states"
   ]
  },
  {
   "cell_type": "markdown",
   "metadata": {},
   "source": [
    "Create two new constants that describe an amplitude for a sinusoidal forcing.\n",
    "\n",
    "$$F(t) = A\\sin(\\omega T)$$"
   ]
  },
  {
   "cell_type": "code",
   "execution_count": null,
   "metadata": {},
   "outputs": [],
   "source": [
    "sys.constants['amplitude'] = 100  # N\n",
    "sys.constants['frequency'] = np.deg2rad(10.0)  # rad/s"
   ]
  },
  {
   "cell_type": "markdown",
   "metadata": {},
   "source": [
    "Now define a function that takes constants and/or time as inputs and outputs the entries of $\\bar{F}$ in the same order as the coordinates and speeds. The following definition applies a sinusoidal force only to the 4th floor."
   ]
  },
  {
   "cell_type": "code",
   "execution_count": null,
   "metadata": {},
   "outputs": [],
   "source": [
    "def push_floor(amplitude, frequency, time):\n",
    "    F1 = 0.0 if np.isscalar(time) else np.zeros_like(time)\n",
    "    F2 = 0.0 if np.isscalar(time) else np.zeros_like(time)\n",
    "    F3 = 0.0 if np.isscalar(time) else np.zeros_like(time)\n",
    "    F4 = amplitude * np.sin(frequency * time)\n",
    "    return F1, F2, F3, F4"
   ]
  },
  {
   "cell_type": "markdown",
   "metadata": {},
   "source": [
    "This function should work with scalar values of time and 1d arrays of time:"
   ]
  },
  {
   "cell_type": "code",
   "execution_count": null,
   "metadata": {},
   "outputs": [],
   "source": [
    "push_floor(1.0, 2.0, 3.0)"
   ]
  },
  {
   "cell_type": "code",
   "execution_count": null,
   "metadata": {},
   "outputs": [],
   "source": [
    "push_floor(1.0, 2.0, np.ones(5))"
   ]
  },
  {
   "cell_type": "markdown",
   "metadata": {},
   "source": [
    "Now add the forcing function to the system:"
   ]
  },
  {
   "cell_type": "code",
   "execution_count": null,
   "metadata": {},
   "outputs": [],
   "source": [
    "sys.forcing_func = push_floor"
   ]
  },
  {
   "cell_type": "markdown",
   "metadata": {},
   "source": [
    "The `forced_response()` function works like the `free_response()` function but it will apply the forcing in the simulation."
   ]
  },
  {
   "cell_type": "code",
   "execution_count": null,
   "metadata": {},
   "outputs": [],
   "source": [
    "traj = sys.forced_response(100)"
   ]
  },
  {
   "cell_type": "code",
   "execution_count": null,
   "metadata": {},
   "outputs": [],
   "source": [
    "traj[sys.coordinates.keys()].plot(subplots=True);"
   ]
  },
  {
   "cell_type": "code",
   "execution_count": null,
   "metadata": {},
   "outputs": [],
   "source": [
    "sys.animate_configuration(fps=10, repeat=False)"
   ]
  },
  {
   "cell_type": "markdown",
   "metadata": {},
   "source": [
    "# Exercise: Forcing at the modal frequencies\n",
    "\n",
    "Update the `frequency` value to simulate the fourth floor being forced at each of the four natural frequencies and note your observations. Compare the obeserved motion to the mode shapes associated with that modal frequency. Use the animation to help visualize what is happening."
   ]
  },
  {
   "cell_type": "code",
   "execution_count": null,
   "metadata": {
    "jupyter": {
     "source_hidden": true
    }
   },
   "outputs": [],
   "source": [
    "sys.constants['frequency'] = ws[0]  # rad/s\n",
    "traj = sys.forced_response(100)\n",
    "traj[sys.coordinates.keys()].plot(subplots=True)\n",
    "sys.animate_configuration(fps=10, repeat=False)"
   ]
  },
  {
   "cell_type": "code",
   "execution_count": null,
   "metadata": {
    "jupyter": {
     "source_hidden": true
    }
   },
   "outputs": [],
   "source": [
    "sys.constants['frequency'] = ws[1]  # rad/s\n",
    "traj = sys.forced_response(100)\n",
    "traj[sys.coordinates.keys()].plot(subplots=True)\n",
    "sys.animate_configuration(fps=10, repeat=False)"
   ]
  },
  {
   "cell_type": "code",
   "execution_count": null,
   "metadata": {
    "jupyter": {
     "source_hidden": true
    }
   },
   "outputs": [],
   "source": [
    "sys.constants['frequency'] = ws[2]  # rad/s\n",
    "traj = sys.forced_response(100)\n",
    "traj[sys.coordinates.keys()].plot(subplots=True)\n",
    "sys.animate_configuration(fps=10, repeat=False)"
   ]
  },
  {
   "cell_type": "code",
   "execution_count": null,
   "metadata": {
    "jupyter": {
     "source_hidden": true
    }
   },
   "outputs": [],
   "source": [
    "sys.constants['frequency'] = ws[3]  # rad/s\n",
    "traj = sys.forced_response(100)\n",
    "traj[sys.coordinates.keys()].plot(subplots=True)\n",
    "sys.animate_configuration(fps=10, repeat=False)"
   ]
  },
  {
   "cell_type": "markdown",
   "metadata": {},
   "source": [
    "# Exercise: Forcing at a node\n",
    "\n",
    "Recall that the 3rd mode shape has an eigenvector component that is zero:"
   ]
  },
  {
   "cell_type": "code",
   "execution_count": null,
   "metadata": {},
   "outputs": [],
   "source": [
    "evecs"
   ]
  },
  {
   "cell_type": "markdown",
   "metadata": {},
   "source": [
    "This is called a \"node\". This node is associated with $x_3$, the third floor and it tells us that there is no motion at floor 3 if this mode is excited.\n",
    "\n",
    "Adjust the forcing function to apply sinusoidal forcing at the third floor. Use the third modal frequency to apply forcing to the third floor, then use one of the other modal frequencies to force the third floor. Compare the results and discuss your observations."
   ]
  },
  {
   "cell_type": "code",
   "execution_count": null,
   "metadata": {
    "jupyter": {
     "source_hidden": true
    }
   },
   "outputs": [],
   "source": [
    "sys.constants['frequency'] = ws[2]  # rad/s\n",
    "def push_floor(amplitude, frequency, time):\n",
    "    F1 = 0.0 if np.isscalar(time) else np.zeros_like(time)\n",
    "    F2 = 0.0 if np.isscalar(time) else np.zeros_like(time)\n",
    "    F3 = amplitude * np.sin(frequency * time)\n",
    "    F4 = 0.0 if np.isscalar(time) else np.zeros_like(time)\n",
    "    return F1, F2, F3, F4\n",
    "sys.forcing_func = push_floor\n",
    "traj = sys.forced_response(100)\n",
    "traj[sys.coordinates.keys()].plot(subplots=True)\n",
    "sys.animate_configuration(fps=10, repeat=False)"
   ]
  },
  {
   "cell_type": "code",
   "execution_count": null,
   "metadata": {
    "jupyter": {
     "source_hidden": true
    }
   },
   "outputs": [],
   "source": [
    "sys.constants['frequency'] = ws[0]  # rad/s\n",
    "def push_floor(amplitude, frequency, time):\n",
    "    F1 = 0.0 if np.isscalar(time) else np.zeros_like(time)\n",
    "    F2 = 0.0 if np.isscalar(time) else np.zeros_like(time)\n",
    "    F3 = amplitude * np.sin(frequency * time)\n",
    "    F4 = 0.0 if np.isscalar(time) else np.zeros_like(time)\n",
    "    return F1, F2, F3, F4\n",
    "sys.forcing_func = push_floor\n",
    "traj = sys.forced_response(100)\n",
    "traj[sys.coordinates.keys()].plot(subplots=True)\n",
    "sys.animate_configuration(fps=10, repeat=False)"
   ]
  }
 ],
 "metadata": {
  "anaconda-cloud": {},
  "kernelspec": {
   "display_name": "Python 3",
   "language": "python",
   "name": "python3"
  },
  "language_info": {
   "codemirror_mode": {
    "name": "ipython",
    "version": 3
   },
   "file_extension": ".py",
   "mimetype": "text/x-python",
   "name": "python",
   "nbconvert_exporter": "python",
   "pygments_lexer": "ipython3",
   "version": "3.6.7"
  }
 },
 "nbformat": 4,
 "nbformat_minor": 4
}
